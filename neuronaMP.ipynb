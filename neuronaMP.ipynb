{
 "cells": [
  {
   "cell_type": "markdown",
   "id": "128a4cac",
   "metadata": {},
   "source": [
    "# Implementación de la Neurona de McCulloch-Pitts"
   ]
  },
  {
   "cell_type": "code",
   "execution_count": 1,
   "id": "6b36bff1",
   "metadata": {},
   "outputs": [],
   "source": [
    "import numpy as np"
   ]
  },
  {
   "cell_type": "code",
   "execution_count": 2,
   "id": "d0c66ee3",
   "metadata": {},
   "outputs": [],
   "source": [
    "class MPneuron:\n",
    "    \n",
    "    def __init__(self):\n",
    "        \n",
    "        self.threshold = None\n",
    "    \n",
    "    def model(self, x):\n",
    "        \n",
    "        # devuelve un valor booleano (True or False)\n",
    "        \n",
    "        # El input es una lista de n eventos, donde el evento es 1 si se realiza y 0 si no se realiza\n",
    "        \n",
    "        return (sum(x) >= self.threshold)\n",
    "    \n",
    "    def predict(self, X):\n",
    "        \n",
    "        Y = []\n",
    "        \n",
    "        # Recibe una lista de lista de números\n",
    "        \n",
    "        for x in X:\n",
    "            \n",
    "            result = self.model(x)\n",
    "            \n",
    "            Y.append(result)\n",
    "        \n",
    "        return np.array(Y)"
   ]
  },
  {
   "cell_type": "code",
   "execution_count": 4,
   "id": "52ddf0be",
   "metadata": {},
   "outputs": [
    {
     "data": {
      "text/plain": [
       "array([ True, False, False])"
      ]
     },
     "execution_count": 4,
     "metadata": {},
     "output_type": "execute_result"
    }
   ],
   "source": [
    "mpNeuron = MPneuron()\n",
    "\n",
    "mpNeuron.threshold = 4\n",
    "\n",
    "mpNeuron.predict([[1, 1, 1, 0, 1, 1], [1, 1., 0, 0, 0, 1], [1, 1, 0, 0, 0, 0]])"
   ]
  },
  {
   "cell_type": "code",
   "execution_count": null,
   "id": "291ea6e1",
   "metadata": {},
   "outputs": [],
   "source": []
  }
 ],
 "metadata": {
  "kernelspec": {
   "display_name": "Python 3",
   "language": "python",
   "name": "python3"
  },
  "language_info": {
   "codemirror_mode": {
    "name": "ipython",
    "version": 3
   },
   "file_extension": ".py",
   "mimetype": "text/x-python",
   "name": "python",
   "nbconvert_exporter": "python",
   "pygments_lexer": "ipython3",
   "version": "3.8.8"
  }
 },
 "nbformat": 4,
 "nbformat_minor": 5
}
